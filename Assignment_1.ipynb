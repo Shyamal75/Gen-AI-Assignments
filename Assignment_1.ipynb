{
 "cells": [
  {
   "cell_type": "markdown",
   "id": "30e9c55f",
   "metadata": {},
   "source": [
    "# देवनागरी हस्तलिखित अक्षरों को पहचानना"
   ]
  },
  {
   "cell_type": "code",
   "execution_count": 17,
   "id": "cf39fe6b",
   "metadata": {},
   "outputs": [],
   "source": [
    "\n",
    "\n",
    "import os\n",
    "import numpy as np\n",
    "import matplotlib.pyplot as plt\n",
    "import tensorflow as tf\n",
    "from tensorflow.keras.models import Sequential\n",
    "from tensorflow.keras.layers import Conv2D, MaxPooling2D, Flatten, Dense, Dropout\n",
    "from tensorflow.keras.preprocessing.image import ImageDataGenerator\n",
    "from sklearn.metrics import classification_report, confusion_matrix\n"
   ]
  },
  {
   "cell_type": "code",
   "execution_count": 2,
   "id": "14322e28",
   "metadata": {},
   "outputs": [],
   "source": [
    "train_path = \"/Users/shyamalmishra/Downloads/DevanagariHindiMNIST/Hindi/Train\"\n",
    "test_path = \"/Users/shyamalmishra/Downloads/DevanagariHindiMNIST/Hindi/Test\""
   ]
  },
  {
   "cell_type": "code",
   "execution_count": 4,
   "id": "8c3a0478",
   "metadata": {},
   "outputs": [
    {
     "name": "stdout",
     "output_type": "stream",
     "text": [
      "Found 78200 images belonging to 46 classes.\n",
      "Found 13800 images belonging to 46 classes.\n"
     ]
    }
   ],
   "source": [
    "train_datagen = ImageDataGenerator(rescale=1./255)\n",
    "test_datagen = ImageDataGenerator(rescale=1./255)\n",
    "\n",
    "train_generator = train_datagen.flow_from_directory(\n",
    "    train_path,\n",
    "    target_size=(32, 32),\n",
    "    color_mode='grayscale',\n",
    "    class_mode='categorical'\n",
    ")\n",
    "\n",
    "test_generator = test_datagen.flow_from_directory(\n",
    "    test_path,\n",
    "    target_size=(32, 32),\n",
    "    color_mode='grayscale',\n",
    "    class_mode='categorical'\n",
    ")"
   ]
  },
  {
   "cell_type": "code",
   "execution_count": 5,
   "id": "c95487be",
   "metadata": {},
   "outputs": [
    {
     "name": "stderr",
     "output_type": "stream",
     "text": [
      "2025-07-06 03:19:42.064849: I metal_plugin/src/device/metal_device.cc:1154] Metal device set to: Apple M3\n",
      "2025-07-06 03:19:42.064998: I metal_plugin/src/device/metal_device.cc:296] systemMemory: 8.00 GB\n",
      "2025-07-06 03:19:42.065010: I metal_plugin/src/device/metal_device.cc:313] maxCacheSize: 2.67 GB\n",
      "2025-07-06 03:19:42.065043: I tensorflow/core/common_runtime/pluggable_device/pluggable_device_factory.cc:306] Could not identify NUMA node of platform GPU ID 0, defaulting to 0. Your kernel may not have been built with NUMA support.\n",
      "2025-07-06 03:19:42.065057: I tensorflow/core/common_runtime/pluggable_device/pluggable_device_factory.cc:272] Created TensorFlow device (/job:localhost/replica:0/task:0/device:GPU:0 with 0 MB memory) -> physical PluggableDevice (device: 0, name: METAL, pci bus id: <undefined>)\n"
     ]
    }
   ],
   "source": [
    "model = Sequential([\n",
    "    Conv2D(32, (3,3), activation='relu', input_shape=(32,32,1)),\n",
    "    MaxPooling2D(2,2),\n",
    "    Conv2D(64, (3,3), activation='relu'),\n",
    "    MaxPooling2D(2,2),\n",
    "    Flatten(),\n",
    "    Dense(128, activation='relu'),\n",
    "    Dropout(0.5),\n",
    "    Dense(46, activation='softmax')\n",
    "])"
   ]
  },
  {
   "cell_type": "code",
   "execution_count": 6,
   "id": "d959ed09",
   "metadata": {},
   "outputs": [
    {
     "name": "stdout",
     "output_type": "stream",
     "text": [
      "Model: \"sequential\"\n",
      "_________________________________________________________________\n",
      " Layer (type)                Output Shape              Param #   \n",
      "=================================================================\n",
      " conv2d (Conv2D)             (None, 30, 30, 32)        320       \n",
      "                                                                 \n",
      " max_pooling2d (MaxPooling2  (None, 15, 15, 32)        0         \n",
      " D)                                                              \n",
      "                                                                 \n",
      " conv2d_1 (Conv2D)           (None, 13, 13, 64)        18496     \n",
      "                                                                 \n",
      " max_pooling2d_1 (MaxPoolin  (None, 6, 6, 64)          0         \n",
      " g2D)                                                            \n",
      "                                                                 \n",
      " flatten (Flatten)           (None, 2304)              0         \n",
      "                                                                 \n",
      " dense (Dense)               (None, 128)               295040    \n",
      "                                                                 \n",
      " dropout (Dropout)           (None, 128)               0         \n",
      "                                                                 \n",
      " dense_1 (Dense)             (None, 46)                5934      \n",
      "                                                                 \n",
      "=================================================================\n",
      "Total params: 319790 (1.22 MB)\n",
      "Trainable params: 319790 (1.22 MB)\n",
      "Non-trainable params: 0 (0.00 Byte)\n",
      "_________________________________________________________________\n"
     ]
    }
   ],
   "source": [
    "model.compile(optimizer='adam', loss='categorical_crossentropy', metrics=['accuracy'])\n",
    "model.summary()"
   ]
  },
  {
   "cell_type": "code",
   "execution_count": 7,
   "id": "858f4f53",
   "metadata": {},
   "outputs": [
    {
     "name": "stdout",
     "output_type": "stream",
     "text": [
      "Epoch 1/10\n",
      "   1/2444 [..............................] - ETA: 14:35 - loss: 3.9018 - accuracy: 0.0000e+00"
     ]
    },
    {
     "name": "stderr",
     "output_type": "stream",
     "text": [
      "2025-07-06 03:24:51.366865: I tensorflow/core/grappler/optimizers/custom_graph_optimizer_registry.cc:117] Plugin optimizer for device_type GPU is enabled.\n"
     ]
    },
    {
     "name": "stdout",
     "output_type": "stream",
     "text": [
      "2444/2444 [==============================] - 25s 10ms/step - loss: 1.7518 - accuracy: 0.6315 - val_loss: 0.3523 - val_accuracy: 0.9041\n",
      "Epoch 2/10\n",
      "2444/2444 [==============================] - 25s 10ms/step - loss: 0.8861 - accuracy: 0.8091 - val_loss: 0.3035 - val_accuracy: 0.9268\n",
      "Epoch 3/10\n",
      "2444/2444 [==============================] - 25s 10ms/step - loss: 0.8747 - accuracy: 0.8377 - val_loss: 0.2969 - val_accuracy: 0.9407\n",
      "Epoch 4/10\n",
      "2444/2444 [==============================] - 25s 10ms/step - loss: 0.9747 - accuracy: 0.8568 - val_loss: 0.3783 - val_accuracy: 0.9443\n",
      "Epoch 5/10\n",
      "2444/2444 [==============================] - 25s 10ms/step - loss: 1.1578 - accuracy: 0.8697 - val_loss: 0.4754 - val_accuracy: 0.9445\n",
      "Epoch 6/10\n",
      "2444/2444 [==============================] - 25s 10ms/step - loss: 1.3111 - accuracy: 0.8801 - val_loss: 0.4368 - val_accuracy: 0.9573\n",
      "Epoch 7/10\n",
      "2444/2444 [==============================] - 26s 10ms/step - loss: 1.5724 - accuracy: 0.8862 - val_loss: 0.6171 - val_accuracy: 0.9559\n",
      "Epoch 8/10\n",
      "2444/2444 [==============================] - 25s 10ms/step - loss: 1.8683 - accuracy: 0.8934 - val_loss: 0.7074 - val_accuracy: 0.9615\n",
      "Epoch 9/10\n",
      "2444/2444 [==============================] - 25s 10ms/step - loss: 2.2329 - accuracy: 0.8973 - val_loss: 0.6837 - val_accuracy: 0.9669\n",
      "Epoch 10/10\n",
      "2444/2444 [==============================] - 25s 10ms/step - loss: 2.5315 - accuracy: 0.9021 - val_loss: 1.0342 - val_accuracy: 0.9630\n"
     ]
    }
   ],
   "source": [
    "history = model.fit(\n",
    "    train_generator,\n",
    "    epochs=10,\n",
    "    validation_data=test_generator\n",
    ")"
   ]
  },
  {
   "cell_type": "code",
   "execution_count": 8,
   "id": "a26025f6",
   "metadata": {},
   "outputs": [
    {
     "name": "stdout",
     "output_type": "stream",
     "text": [
      "432/432 [==============================] - 3s 6ms/step - loss: 1.0342 - accuracy: 0.9630\n",
      "Test Accuracy: 96.30%\n"
     ]
    }
   ],
   "source": [
    "loss, accuracy = model.evaluate(test_generator)\n",
    "print(f\"Test Accuracy: {accuracy * 100:.2f}%\")"
   ]
  },
  {
   "cell_type": "code",
   "execution_count": 16,
   "id": "bfc87d13",
   "metadata": {},
   "outputs": [
    {
     "name": "stdout",
     "output_type": "stream",
     "text": [
      "1/1 [==============================] - 0s 10ms/step\n"
     ]
    },
    {
     "data": {
      "image/png": "[encoded data removed]",
      "text/plain": [
       "<Figure size 640x480 with 1 Axes>"
      ]
     },
     "metadata": {},
     "output_type": "display_data"
    },
    {
     "data": {
      "image/png": "[encoded data removed]",
      "text/plain": [
       "<Figure size 640x480 with 1 Axes>"
      ]
     },
     "metadata": {},
     "output_type": "display_data"
    },
    {
     "data": {
      "image/png": "[encoded data removed]",
      "text/plain": [
       "<Figure size 640x480 with 1 Axes>"
      ]
     },
     "metadata": {},
     "output_type": "display_data"
    },
    {
     "data": {
      "image/png": "[encoded data removed]",
      "text/plain": [
       "<Figure size 640x480 with 1 Axes>"
      ]
     },
     "metadata": {},
     "output_type": "display_data"
    },
    {
     "data": {
      "image/png": "[encoded data removed]",
      "text/plain": [
       "<Figure size 640x480 with 1 Axes>"
      ]
     },
     "metadata": {},
     "output_type": "display_data"
    }
   ],
   "source": [
    "sample_images, sample_labels = next(test_generator)\n",
    "predictions = model.predict(sample_images)\n",
    "\n",
    "for i in range(5):\n",
    "    plt.imshow(sample_images[i].reshape(32, 32), cmap='gray')\n",
    "    plt.title(f\"Predicted: {np.argmax(predictions[i])}, Actual: {np.argmax(sample_labels[i])}\")\n",
    "    plt.axis('off')\n",
    "    plt.show()"
   ]
  }
 ],
 "metadata": {
  "kernelspec": {
   "display_name": "Python (venv)",
   "language": "python",
   "name": "venv"
  },
  "language_info": {
   "codemirror_mode": {
    "name": "ipython",
    "version": 3
   },
   "file_extension": ".py",
   "mimetype": "text/x-python",
   "name": "python",
   "nbconvert_exporter": "python",
   "pygments_lexer": "ipython3",
   "version": "3.10.11"
  }
 },
 "nbformat": 4,
 "nbformat_minor": 5
}
